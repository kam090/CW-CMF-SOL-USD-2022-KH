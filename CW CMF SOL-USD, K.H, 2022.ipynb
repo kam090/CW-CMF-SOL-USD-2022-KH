{
 "cells": [
  {
   "cell_type": "markdown",
   "id": "69aba90e",
   "metadata": {},
   "source": [
    "# CW CMF SOL-USD 2022"
   ]
  },
  {
   "cell_type": "code",
   "execution_count": 324,
   "id": "dc82f0a3",
   "metadata": {},
   "outputs": [],
   "source": [
    "import yfinance as yf\n",
    "import numpy as np\n",
    "import pandas as pd\n",
    "import matplotlib.pyplot as plt\n",
    "import os \n",
    "import scipy.stats as si\n",
    "from mpl_toolkits.mplot3d import Axes3D"
   ]
  },
  {
   "cell_type": "code",
   "execution_count": 325,
   "id": "dee1cac2",
   "metadata": {},
   "outputs": [
    {
     "name": "stdout",
     "output_type": "stream",
     "text": [
      "[*********************100%***********************]  1 of 1 completed\n"
     ]
    }
   ],
   "source": [
    "data = yf.download(\"SOL-USD\", start=\"2021-03-01\", end=\"2022-03-01\")"
   ]
  },
  {
   "cell_type": "markdown",
   "id": "d2b9ebc2",
   "metadata": {},
   "source": [
    "### Data summary Statistic "
   ]
  },
  {
   "cell_type": "code",
   "execution_count": 326,
   "id": "556113f6",
   "metadata": {},
   "outputs": [
    {
     "data": {
      "text/html": [
       "<div>\n",
       "<style scoped>\n",
       "    .dataframe tbody tr th:only-of-type {\n",
       "        vertical-align: middle;\n",
       "    }\n",
       "\n",
       "    .dataframe tbody tr th {\n",
       "        vertical-align: top;\n",
       "    }\n",
       "\n",
       "    .dataframe thead th {\n",
       "        text-align: right;\n",
       "    }\n",
       "</style>\n",
       "<table border=\"1\" class=\"dataframe\">\n",
       "  <thead>\n",
       "    <tr style=\"text-align: right;\">\n",
       "      <th></th>\n",
       "      <th>Open</th>\n",
       "      <th>High</th>\n",
       "      <th>Low</th>\n",
       "      <th>Close</th>\n",
       "      <th>Adj Close</th>\n",
       "      <th>Volume</th>\n",
       "    </tr>\n",
       "  </thead>\n",
       "  <tbody>\n",
       "    <tr>\n",
       "      <th>count</th>\n",
       "      <td>366.00</td>\n",
       "      <td>366.00</td>\n",
       "      <td>366.00</td>\n",
       "      <td>366.00</td>\n",
       "      <td>366.00</td>\n",
       "      <td>3.660000e+02</td>\n",
       "    </tr>\n",
       "    <tr>\n",
       "      <th>mean</th>\n",
       "      <td>97.35</td>\n",
       "      <td>102.27</td>\n",
       "      <td>92.34</td>\n",
       "      <td>97.51</td>\n",
       "      <td>97.51</td>\n",
       "      <td>1.899262e+09</td>\n",
       "    </tr>\n",
       "    <tr>\n",
       "      <th>std</th>\n",
       "      <td>71.45</td>\n",
       "      <td>74.02</td>\n",
       "      <td>68.20</td>\n",
       "      <td>71.22</td>\n",
       "      <td>71.22</td>\n",
       "      <td>1.918293e+09</td>\n",
       "    </tr>\n",
       "    <tr>\n",
       "      <th>min</th>\n",
       "      <td>12.57</td>\n",
       "      <td>13.08</td>\n",
       "      <td>11.49</td>\n",
       "      <td>12.61</td>\n",
       "      <td>12.61</td>\n",
       "      <td>6.422934e+07</td>\n",
       "    </tr>\n",
       "    <tr>\n",
       "      <th>25%</th>\n",
       "      <td>32.95</td>\n",
       "      <td>35.01</td>\n",
       "      <td>31.14</td>\n",
       "      <td>33.04</td>\n",
       "      <td>33.04</td>\n",
       "      <td>4.754669e+08</td>\n",
       "    </tr>\n",
       "    <tr>\n",
       "      <th>50%</th>\n",
       "      <td>85.18</td>\n",
       "      <td>92.13</td>\n",
       "      <td>81.22</td>\n",
       "      <td>85.99</td>\n",
       "      <td>85.99</td>\n",
       "      <td>1.552719e+09</td>\n",
       "    </tr>\n",
       "    <tr>\n",
       "      <th>75%</th>\n",
       "      <td>159.70</td>\n",
       "      <td>168.49</td>\n",
       "      <td>150.92</td>\n",
       "      <td>159.08</td>\n",
       "      <td>159.08</td>\n",
       "      <td>2.688638e+09</td>\n",
       "    </tr>\n",
       "    <tr>\n",
       "      <th>max</th>\n",
       "      <td>258.78</td>\n",
       "      <td>260.06</td>\n",
       "      <td>246.12</td>\n",
       "      <td>258.93</td>\n",
       "      <td>258.93</td>\n",
       "      <td>1.706864e+10</td>\n",
       "    </tr>\n",
       "  </tbody>\n",
       "</table>\n",
       "</div>"
      ],
      "text/plain": [
       "         Open    High     Low   Close  Adj Close        Volume\n",
       "count  366.00  366.00  366.00  366.00     366.00  3.660000e+02\n",
       "mean    97.35  102.27   92.34   97.51      97.51  1.899262e+09\n",
       "std     71.45   74.02   68.20   71.22      71.22  1.918293e+09\n",
       "min     12.57   13.08   11.49   12.61      12.61  6.422934e+07\n",
       "25%     32.95   35.01   31.14   33.04      33.04  4.754669e+08\n",
       "50%     85.18   92.13   81.22   85.99      85.99  1.552719e+09\n",
       "75%    159.70  168.49  150.92  159.08     159.08  2.688638e+09\n",
       "max    258.78  260.06  246.12  258.93     258.93  1.706864e+10"
      ]
     },
     "execution_count": 326,
     "metadata": {},
     "output_type": "execute_result"
    }
   ],
   "source": [
    " data.describe().round(2)"
   ]
  },
  {
   "cell_type": "code",
   "execution_count": 327,
   "id": "658e9a7d",
   "metadata": {},
   "outputs": [
    {
     "data": {
      "text/html": [
       "<div>\n",
       "<style scoped>\n",
       "    .dataframe tbody tr th:only-of-type {\n",
       "        vertical-align: middle;\n",
       "    }\n",
       "\n",
       "    .dataframe tbody tr th {\n",
       "        vertical-align: top;\n",
       "    }\n",
       "\n",
       "    .dataframe thead th {\n",
       "        text-align: right;\n",
       "    }\n",
       "</style>\n",
       "<table border=\"1\" class=\"dataframe\">\n",
       "  <thead>\n",
       "    <tr style=\"text-align: right;\">\n",
       "      <th></th>\n",
       "      <th>Open</th>\n",
       "      <th>High</th>\n",
       "      <th>Low</th>\n",
       "      <th>Close</th>\n",
       "      <th>Adj Close</th>\n",
       "      <th>Volume</th>\n",
       "    </tr>\n",
       "    <tr>\n",
       "      <th>Date</th>\n",
       "      <th></th>\n",
       "      <th></th>\n",
       "      <th></th>\n",
       "      <th></th>\n",
       "      <th></th>\n",
       "      <th></th>\n",
       "    </tr>\n",
       "  </thead>\n",
       "  <tbody>\n",
       "    <tr>\n",
       "      <th>2021-02-28</th>\n",
       "      <td>13.207767</td>\n",
       "      <td>13.779016</td>\n",
       "      <td>11.489983</td>\n",
       "      <td>13.089247</td>\n",
       "      <td>13.089247</td>\n",
       "      <td>300493226</td>\n",
       "    </tr>\n",
       "    <tr>\n",
       "      <th>2021-03-01</th>\n",
       "      <td>13.108435</td>\n",
       "      <td>15.516057</td>\n",
       "      <td>13.057385</td>\n",
       "      <td>14.955588</td>\n",
       "      <td>14.955588</td>\n",
       "      <td>306451693</td>\n",
       "    </tr>\n",
       "    <tr>\n",
       "      <th>2021-03-02</th>\n",
       "      <td>14.966845</td>\n",
       "      <td>15.224125</td>\n",
       "      <td>13.460749</td>\n",
       "      <td>13.958921</td>\n",
       "      <td>13.958921</td>\n",
       "      <td>178549852</td>\n",
       "    </tr>\n",
       "    <tr>\n",
       "      <th>2021-03-03</th>\n",
       "      <td>13.963540</td>\n",
       "      <td>14.729359</td>\n",
       "      <td>13.767049</td>\n",
       "      <td>14.115591</td>\n",
       "      <td>14.115591</td>\n",
       "      <td>153830742</td>\n",
       "    </tr>\n",
       "    <tr>\n",
       "      <th>2021-03-04</th>\n",
       "      <td>14.094867</td>\n",
       "      <td>14.260361</td>\n",
       "      <td>12.771270</td>\n",
       "      <td>13.097983</td>\n",
       "      <td>13.097983</td>\n",
       "      <td>116364466</td>\n",
       "    </tr>\n",
       "  </tbody>\n",
       "</table>\n",
       "</div>"
      ],
      "text/plain": [
       "                 Open       High        Low      Close  Adj Close     Volume\n",
       "Date                                                                        \n",
       "2021-02-28  13.207767  13.779016  11.489983  13.089247  13.089247  300493226\n",
       "2021-03-01  13.108435  15.516057  13.057385  14.955588  14.955588  306451693\n",
       "2021-03-02  14.966845  15.224125  13.460749  13.958921  13.958921  178549852\n",
       "2021-03-03  13.963540  14.729359  13.767049  14.115591  14.115591  153830742\n",
       "2021-03-04  14.094867  14.260361  12.771270  13.097983  13.097983  116364466"
      ]
     },
     "execution_count": 327,
     "metadata": {},
     "output_type": "execute_result"
    }
   ],
   "source": [
    " data.head()"
   ]
  },
  {
   "cell_type": "code",
   "execution_count": 328,
   "id": "b44db58b",
   "metadata": {},
   "outputs": [
    {
     "data": {
      "text/html": [
       "<div>\n",
       "<style scoped>\n",
       "    .dataframe tbody tr th:only-of-type {\n",
       "        vertical-align: middle;\n",
       "    }\n",
       "\n",
       "    .dataframe tbody tr th {\n",
       "        vertical-align: top;\n",
       "    }\n",
       "\n",
       "    .dataframe thead th {\n",
       "        text-align: right;\n",
       "    }\n",
       "</style>\n",
       "<table border=\"1\" class=\"dataframe\">\n",
       "  <thead>\n",
       "    <tr style=\"text-align: right;\">\n",
       "      <th></th>\n",
       "      <th>Open</th>\n",
       "      <th>High</th>\n",
       "      <th>Low</th>\n",
       "      <th>Close</th>\n",
       "      <th>Adj Close</th>\n",
       "      <th>Volume</th>\n",
       "    </tr>\n",
       "    <tr>\n",
       "      <th>Date</th>\n",
       "      <th></th>\n",
       "      <th></th>\n",
       "      <th></th>\n",
       "      <th></th>\n",
       "      <th></th>\n",
       "      <th></th>\n",
       "    </tr>\n",
       "  </thead>\n",
       "  <tbody>\n",
       "    <tr>\n",
       "      <th>2022-02-24</th>\n",
       "      <td>84.863579</td>\n",
       "      <td>92.279396</td>\n",
       "      <td>76.859573</td>\n",
       "      <td>89.194748</td>\n",
       "      <td>89.194748</td>\n",
       "      <td>5253578948</td>\n",
       "    </tr>\n",
       "    <tr>\n",
       "      <th>2022-02-25</th>\n",
       "      <td>89.228134</td>\n",
       "      <td>94.777809</td>\n",
       "      <td>87.276161</td>\n",
       "      <td>92.598824</td>\n",
       "      <td>92.598824</td>\n",
       "      <td>3069242551</td>\n",
       "    </tr>\n",
       "    <tr>\n",
       "      <th>2022-02-26</th>\n",
       "      <td>92.608864</td>\n",
       "      <td>94.604332</td>\n",
       "      <td>89.757675</td>\n",
       "      <td>90.141563</td>\n",
       "      <td>90.141563</td>\n",
       "      <td>1721041901</td>\n",
       "    </tr>\n",
       "    <tr>\n",
       "      <th>2022-02-27</th>\n",
       "      <td>90.124634</td>\n",
       "      <td>91.989433</td>\n",
       "      <td>84.492928</td>\n",
       "      <td>85.519051</td>\n",
       "      <td>85.519051</td>\n",
       "      <td>2012522473</td>\n",
       "    </tr>\n",
       "    <tr>\n",
       "      <th>2022-02-28</th>\n",
       "      <td>85.501106</td>\n",
       "      <td>101.041794</td>\n",
       "      <td>84.575844</td>\n",
       "      <td>99.520348</td>\n",
       "      <td>99.520348</td>\n",
       "      <td>3457872746</td>\n",
       "    </tr>\n",
       "  </tbody>\n",
       "</table>\n",
       "</div>"
      ],
      "text/plain": [
       "                 Open        High        Low      Close  Adj Close      Volume\n",
       "Date                                                                          \n",
       "2022-02-24  84.863579   92.279396  76.859573  89.194748  89.194748  5253578948\n",
       "2022-02-25  89.228134   94.777809  87.276161  92.598824  92.598824  3069242551\n",
       "2022-02-26  92.608864   94.604332  89.757675  90.141563  90.141563  1721041901\n",
       "2022-02-27  90.124634   91.989433  84.492928  85.519051  85.519051  2012522473\n",
       "2022-02-28  85.501106  101.041794  84.575844  99.520348  99.520348  3457872746"
      ]
     },
     "execution_count": 328,
     "metadata": {},
     "output_type": "execute_result"
    }
   ],
   "source": [
    " data.tail()"
   ]
  },
  {
   "cell_type": "code",
   "execution_count": 329,
   "id": "9aec4a5f",
   "metadata": {},
   "outputs": [
    {
     "name": "stdout",
     "output_type": "stream",
     "text": [
      "<class 'pandas.core.frame.DataFrame'>\n",
      "DatetimeIndex: 366 entries, 2021-02-28 to 2022-02-28\n",
      "Data columns (total 6 columns):\n",
      " #   Column     Non-Null Count  Dtype  \n",
      "---  ------     --------------  -----  \n",
      " 0   Open       366 non-null    float64\n",
      " 1   High       366 non-null    float64\n",
      " 2   Low        366 non-null    float64\n",
      " 3   Close      366 non-null    float64\n",
      " 4   Adj Close  366 non-null    float64\n",
      " 5   Volume     366 non-null    int64  \n",
      "dtypes: float64(5), int64(1)\n",
      "memory usage: 20.0 KB\n"
     ]
    }
   ],
   "source": [
    "data.info()"
   ]
  },
  {
   "cell_type": "code",
   "execution_count": 330,
   "id": "a2361070",
   "metadata": {},
   "outputs": [
    {
     "data": {
      "text/html": [
       "<div>\n",
       "<style scoped>\n",
       "    .dataframe tbody tr th:only-of-type {\n",
       "        vertical-align: middle;\n",
       "    }\n",
       "\n",
       "    .dataframe tbody tr th {\n",
       "        vertical-align: top;\n",
       "    }\n",
       "\n",
       "    .dataframe thead th {\n",
       "        text-align: right;\n",
       "    }\n",
       "</style>\n",
       "<table border=\"1\" class=\"dataframe\">\n",
       "  <thead>\n",
       "    <tr style=\"text-align: right;\">\n",
       "      <th></th>\n",
       "      <th>Open</th>\n",
       "      <th>High</th>\n",
       "      <th>Low</th>\n",
       "      <th>Close</th>\n",
       "      <th>Adj Close</th>\n",
       "      <th>Volume</th>\n",
       "    </tr>\n",
       "    <tr>\n",
       "      <th>Date</th>\n",
       "      <th></th>\n",
       "      <th></th>\n",
       "      <th></th>\n",
       "      <th></th>\n",
       "      <th></th>\n",
       "      <th></th>\n",
       "    </tr>\n",
       "  </thead>\n",
       "  <tbody>\n",
       "    <tr>\n",
       "      <th>2021-02-28</th>\n",
       "      <td>NaN</td>\n",
       "      <td>NaN</td>\n",
       "      <td>NaN</td>\n",
       "      <td>NaN</td>\n",
       "      <td>NaN</td>\n",
       "      <td>NaN</td>\n",
       "    </tr>\n",
       "    <tr>\n",
       "      <th>2021-03-01</th>\n",
       "      <td>-0.099332</td>\n",
       "      <td>1.737041</td>\n",
       "      <td>1.567403</td>\n",
       "      <td>1.866342</td>\n",
       "      <td>1.866342</td>\n",
       "      <td>5958467.0</td>\n",
       "    </tr>\n",
       "    <tr>\n",
       "      <th>2021-03-02</th>\n",
       "      <td>1.858410</td>\n",
       "      <td>-0.291932</td>\n",
       "      <td>0.403363</td>\n",
       "      <td>-0.996667</td>\n",
       "      <td>-0.996667</td>\n",
       "      <td>-127901841.0</td>\n",
       "    </tr>\n",
       "    <tr>\n",
       "      <th>2021-03-03</th>\n",
       "      <td>-1.003304</td>\n",
       "      <td>-0.494766</td>\n",
       "      <td>0.306300</td>\n",
       "      <td>0.156670</td>\n",
       "      <td>0.156670</td>\n",
       "      <td>-24719110.0</td>\n",
       "    </tr>\n",
       "    <tr>\n",
       "      <th>2021-03-04</th>\n",
       "      <td>0.131327</td>\n",
       "      <td>-0.468998</td>\n",
       "      <td>-0.995779</td>\n",
       "      <td>-1.017608</td>\n",
       "      <td>-1.017608</td>\n",
       "      <td>-37466276.0</td>\n",
       "    </tr>\n",
       "  </tbody>\n",
       "</table>\n",
       "</div>"
      ],
      "text/plain": [
       "                Open      High       Low     Close  Adj Close       Volume\n",
       "Date                                                                      \n",
       "2021-02-28       NaN       NaN       NaN       NaN        NaN          NaN\n",
       "2021-03-01 -0.099332  1.737041  1.567403  1.866342   1.866342    5958467.0\n",
       "2021-03-02  1.858410 -0.291932  0.403363 -0.996667  -0.996667 -127901841.0\n",
       "2021-03-03 -1.003304 -0.494766  0.306300  0.156670   0.156670  -24719110.0\n",
       "2021-03-04  0.131327 -0.468998 -0.995779 -1.017608  -1.017608  -37466276.0"
      ]
     },
     "execution_count": 330,
     "metadata": {},
     "output_type": "execute_result"
    }
   ],
   "source": [
    "data.diff().head()"
   ]
  },
  {
   "cell_type": "code",
   "execution_count": 331,
   "id": "f5cc6952",
   "metadata": {},
   "outputs": [
    {
     "data": {
      "text/html": [
       "<div>\n",
       "<style scoped>\n",
       "    .dataframe tbody tr th:only-of-type {\n",
       "        vertical-align: middle;\n",
       "    }\n",
       "\n",
       "    .dataframe tbody tr th {\n",
       "        vertical-align: top;\n",
       "    }\n",
       "\n",
       "    .dataframe thead th {\n",
       "        text-align: right;\n",
       "    }\n",
       "</style>\n",
       "<table border=\"1\" class=\"dataframe\">\n",
       "  <thead>\n",
       "    <tr style=\"text-align: right;\">\n",
       "      <th></th>\n",
       "      <th>Open</th>\n",
       "      <th>High</th>\n",
       "      <th>Low</th>\n",
       "      <th>Close</th>\n",
       "      <th>Adj Close</th>\n",
       "      <th>Volume</th>\n",
       "    </tr>\n",
       "  </thead>\n",
       "  <tbody>\n",
       "    <tr>\n",
       "      <th>count</th>\n",
       "      <td>365.000000</td>\n",
       "      <td>365.000000</td>\n",
       "      <td>365.000000</td>\n",
       "      <td>365.000000</td>\n",
       "      <td>365.000000</td>\n",
       "      <td>3.650000e+02</td>\n",
       "    </tr>\n",
       "    <tr>\n",
       "      <th>mean</th>\n",
       "      <td>0.198064</td>\n",
       "      <td>0.239076</td>\n",
       "      <td>0.200235</td>\n",
       "      <td>0.236798</td>\n",
       "      <td>0.236798</td>\n",
       "      <td>8.650355e+06</td>\n",
       "    </tr>\n",
       "    <tr>\n",
       "      <th>std</th>\n",
       "      <td>7.353744</td>\n",
       "      <td>6.431978</td>\n",
       "      <td>7.073718</td>\n",
       "      <td>7.132275</td>\n",
       "      <td>7.132275</td>\n",
       "      <td>1.147691e+09</td>\n",
       "    </tr>\n",
       "    <tr>\n",
       "      <th>min</th>\n",
       "      <td>-23.809296</td>\n",
       "      <td>-26.314560</td>\n",
       "      <td>-35.776199</td>\n",
       "      <td>-23.227829</td>\n",
       "      <td>-23.227829</td>\n",
       "      <td>-5.588748e+09</td>\n",
       "    </tr>\n",
       "    <tr>\n",
       "      <th>25%</th>\n",
       "      <td>-2.393005</td>\n",
       "      <td>-2.527336</td>\n",
       "      <td>-1.834703</td>\n",
       "      <td>-2.482172</td>\n",
       "      <td>-2.482172</td>\n",
       "      <td>-3.180393e+08</td>\n",
       "    </tr>\n",
       "  </tbody>\n",
       "</table>\n",
       "</div>"
      ],
      "text/plain": [
       "             Open        High         Low       Close   Adj Close  \\\n",
       "count  365.000000  365.000000  365.000000  365.000000  365.000000   \n",
       "mean     0.198064    0.239076    0.200235    0.236798    0.236798   \n",
       "std      7.353744    6.431978    7.073718    7.132275    7.132275   \n",
       "min    -23.809296  -26.314560  -35.776199  -23.227829  -23.227829   \n",
       "25%     -2.393005   -2.527336   -1.834703   -2.482172   -2.482172   \n",
       "\n",
       "             Volume  \n",
       "count  3.650000e+02  \n",
       "mean   8.650355e+06  \n",
       "std    1.147691e+09  \n",
       "min   -5.588748e+09  \n",
       "25%   -3.180393e+08  "
      ]
     },
     "execution_count": 331,
     "metadata": {},
     "output_type": "execute_result"
    }
   ],
   "source": [
    "data.diff().describe().head()"
   ]
  },
  {
   "cell_type": "markdown",
   "id": "61001986",
   "metadata": {},
   "source": [
    "### Adjusted close price "
   ]
  },
  {
   "cell_type": "code",
   "execution_count": 332,
   "id": "f23aeacc",
   "metadata": {},
   "outputs": [],
   "source": [
    "ADJ =  data['Adj Close']"
   ]
  },
  {
   "cell_type": "code",
   "execution_count": 333,
   "id": "5026730d",
   "metadata": {},
   "outputs": [
    {
     "data": {
      "text/plain": [
       "<AxesSubplot:xlabel='Date'>"
      ]
     },
     "execution_count": 333,
     "metadata": {},
     "output_type": "execute_result"
    },
    {
     "data": {
      "image/png": "[encoded data removed]",
      "text/plain": [
       "<Figure size 432x288 with 1 Axes>"
      ]
     },
     "metadata": {
      "needs_background": "light"
     },
     "output_type": "display_data"
    }
   ],
   "source": [
    "ADJ.plot()"
   ]
  },
  {
   "cell_type": "code",
   "execution_count": 334,
   "id": "74ea01a7",
   "metadata": {},
   "outputs": [
    {
     "data": {
      "text/plain": [
       "count    366.00\n",
       "mean      97.51\n",
       "std       71.22\n",
       "min       12.61\n",
       "25%       33.04\n",
       "50%       85.99\n",
       "75%      159.08\n",
       "max      258.93\n",
       "Name: Adj Close, dtype: float64"
      ]
     },
     "execution_count": 334,
     "metadata": {},
     "output_type": "execute_result"
    }
   ],
   "source": [
    "ADJ.describe().round(2)      # we have calculate the daily return of SOL-USD"
   ]
  },
  {
   "cell_type": "code",
   "execution_count": 335,
   "id": "dc8e5cb6",
   "metadata": {},
   "outputs": [
    {
     "data": {
      "text/plain": [
       "Date\n",
       "2021-02-28       NaN\n",
       "2021-03-01    0.1333\n",
       "2021-03-02   -0.0690\n",
       "2021-03-03    0.0112\n",
       "2021-03-04   -0.0748\n",
       "Name: Adj Close, dtype: float64"
      ]
     },
     "execution_count": 335,
     "metadata": {},
     "output_type": "execute_result"
    }
   ],
   "source": [
    "rets = np.log(ADJ/ ADJ.shift(1))       # We have calculated log return Today's price/ yesterday's price \n",
    "rets.head().round(4)                   "
   ]
  },
  {
   "cell_type": "markdown",
   "id": "29eacce4",
   "metadata": {},
   "source": [
    "### Log return "
   ]
  },
  {
   "cell_type": "code",
   "execution_count": 336,
   "id": "9124e147",
   "metadata": {},
   "outputs": [
    {
     "data": {
      "image/png": "[encoded data removed]",
      "text/plain": [
       "<Figure size 720x432 with 1 Axes>"
      ]
     },
     "metadata": {
      "needs_background": "light"
     },
     "output_type": "display_data"
    }
   ],
   "source": [
    "rets.cumsum().apply(np.exp).plot(figsize=(10, 6));    # that is the exponential function figure of the return"
   ]
  },
  {
   "cell_type": "code",
   "execution_count": 337,
   "id": "58820ae8",
   "metadata": {},
   "outputs": [
    {
     "data": {
      "text/plain": [
       "[0.14258586659303013,\n",
       " -0.06664177199554829,\n",
       " 0.011223619063755595,\n",
       " -0.07209104353883146,\n",
       " -0.037222542710982506]"
      ]
     },
     "execution_count": 337,
     "metadata": {},
     "output_type": "execute_result"
    }
   ],
   "source": [
    " normal_return = []\n",
    "for i in range(0,len(data)-1):\n",
    "    adjclose_yesterday = data.iloc[i]['Adj Close']\n",
    "    adjclose_today = data.iloc[i+1]['Adj Close']\n",
    "    x = (adjclose_today - adjclose_yesterday) / adjclose_yesterday\n",
    "    normal_return.append(x)\n",
    "normal_return[:5]"
   ]
  },
  {
   "cell_type": "code",
   "execution_count": 338,
   "id": "245fe27d",
   "metadata": {},
   "outputs": [
    {
     "data": {
      "text/plain": [
       "[0.13329399771748274,\n",
       " -0.0689661989807534,\n",
       " 0.011161101597876017,\n",
       " -0.07482165827044047,\n",
       " -0.03793298704797165]"
      ]
     },
     "execution_count": 338,
     "metadata": {},
     "output_type": "execute_result"
    }
   ],
   "source": [
    "log_return = []                       # we use the log return to calibrate the volatility \n",
    "for i in range(0,len(data)-1):                                  \n",
    "    adjclose_yesterday = data.iloc[i]['Adj Close']\n",
    "    adjclose_today = data.iloc[i+1]['Adj Close']\n",
    "    y = np.log(adjclose_today / adjclose_yesterday)\n",
    "    log_return.append(y)\n",
    "log_return[:5]"
   ]
  },
  {
   "cell_type": "markdown",
   "id": "f4c9fc18",
   "metadata": {},
   "source": [
    "### Annualized return and volatility "
   ]
  },
  {
   "cell_type": "code",
   "execution_count": 339,
   "id": "44074dca",
   "metadata": {},
   "outputs": [
    {
     "name": "stdout",
     "output_type": "stream",
     "text": [
      "The annulized normal return is 3.06642759 and its annulized volatility is 1.44029037\n"
     ]
    }
   ],
   "source": [
    "datanr = pd.DataFrame(normal_return, columns = ['normal']) \n",
    "nr = datanr.mean() * len(datanr)\n",
    "nv = datanr.std() * (len(datanr) ** 0.5)\n",
    "print('The annulized normal return is %.8f and its annulized volatility is %.8f' % (nr,nv))"
   ]
  },
  {
   "cell_type": "code",
   "execution_count": 340,
   "id": "32a574a9",
   "metadata": {},
   "outputs": [
    {
     "name": "stdout",
     "output_type": "stream",
     "text": [
      "The annulized log return is 2.02857109 and its annulized volatility is 1.44019508\n"
     ]
    }
   ],
   "source": [
    "datalr = pd.DataFrame(log_return, columns = ['log'])          #We have calculate the volatility for 1 year \n",
    "lr = datalr.mean() * len(datalr)\n",
    "lv = datalr.std() * (len(datalr) ** 0.5)\n",
    "print('The annulized log return is %.8f and its annulized volatility is %.8f' % (lr,lv))"
   ]
  },
  {
   "cell_type": "code",
   "execution_count": 341,
   "id": "0d1e93f9",
   "metadata": {},
   "outputs": [
    {
     "data": {
      "image/png": "[encoded data removed]",
      "text/plain": [
       "<Figure size 432x288 with 1 Axes>"
      ]
     },
     "metadata": {
      "needs_background": "light"
     },
     "output_type": "display_data"
    }
   ],
   "source": [
    "import matplotlib.pyplot as plt\n",
    "fig = plt.figure()\n",
    "plt.plot(data['Close'])\n",
    "plt.xlabel('Days')                                 \n",
    "plt.ylabel('Price ($)')\n",
    "plt.title('Closed Price');"
   ]
  },
  {
   "cell_type": "code",
   "execution_count": 342,
   "id": "419f9bfa",
   "metadata": {},
   "outputs": [
    {
     "data": {
      "image/png": "[encoded data removed]",
      "text/plain": [
       "<Figure size 432x288 with 1 Axes>"
      ]
     },
     "metadata": {
      "needs_background": "light"
     },
     "output_type": "display_data"
    }
   ],
   "source": [
    "fig = plt.figure()\n",
    "plt.plot(datalr * 100)\n",
    "plt.xlabel('Days')\n",
    "plt.ylabel('Percentage % ')\n",
    "plt.title('Log Return');"
   ]
  },
  {
   "cell_type": "code",
   "execution_count": 442,
   "id": "077944ec",
   "metadata": {},
   "outputs": [
    {
     "data": {
      "text/plain": [
       "(<AxesSubplot:xlabel='Date'>,)"
      ]
     },
     "execution_count": 442,
     "metadata": {},
     "output_type": "execute_result"
    },
    {
     "data": {
      "image/png": "[encoded data removed]",
      "text/plain": [
       "<Figure size 576x360 with 1 Axes>"
      ]
     },
     "metadata": {
      "needs_background": "light"
     },
     "output_type": "display_data"
    }
   ],
   "source": [
    "data.plot(figsize=(8, 5)),"
   ]
  },
  {
   "cell_type": "markdown",
   "id": "92144714",
   "metadata": {},
   "source": [
    "# Monte Carlo Simulation"
   ]
  },
  {
   "cell_type": "code",
   "execution_count": 357,
   "id": "d6d2a6a5",
   "metadata": {},
   "outputs": [
    {
     "name": "stdout",
     "output_type": "stream",
     "text": [
      "The spot price is $ 99.52\n"
     ]
    }
   ],
   "source": [
    "SP = data['Adj Close'][-1]                    \n",
    "print('The spot price is $', round(SP,2))"
   ]
  },
  {
   "cell_type": "code",
   "execution_count": 358,
   "id": "c6c41057",
   "metadata": {},
   "outputs": [],
   "source": [
    "S0 = 99.52                    # Last close price of SOLANA ( SOL-USD) on March 1st 2022 \n",
    "K = 120.0                     # strike price \n",
    "T = 1/52                      # maturity is 1 week \n",
    "r = 0.017                     # risk free rate \n",
    "sig = 1.44                    # sig is the volatility,\n",
    "N = 3                         # the number of time steps   \n",
    "payoff = \"put\"                # payoff \n",
    "\n",
    "\n"
   ]
  },
  {
   "cell_type": "markdown",
   "id": "0dfd8dcf",
   "metadata": {},
   "source": [
    " ### MCS for European option "
   ]
  },
  {
   "cell_type": "code",
   "execution_count": 359,
   "id": "a58ccadc",
   "metadata": {},
   "outputs": [],
   "source": [
    "def mcs_simulation_np(m,n):         # Monte Carlo simulation method\n",
    "    M = m             # number of time steps\n",
    "    I = n             # number of simulations\n",
    "    dt = T / M        # The size of time step for each simulation in 1 week\n",
    "    S = np.zeros((M + 1, I)) # We created the Matrix for the underlying asset Price\n",
    "    S[0] = S0         # The spot price on March 3 2022\n",
    "    rn = np.random.standard_normal(S.shape) # rn is a standard normally distributed random number \n",
    "    for t in range(1, M + 1):                \n",
    "        S[t] = S[t-1] * np.exp((r - sig ** 2 / 2) * dt + sig * np.sqrt(dt) * rn[t]) \n",
    "    return S                # S(t) is the value of the underlying at time t"
   ]
  },
  {
   "cell_type": "markdown",
   "id": "fb60e45e",
   "metadata": {},
   "source": [
    "### Data input "
   ]
  },
  {
   "cell_type": "code",
   "execution_count": 445,
   "id": "aabf7f02",
   "metadata": {},
   "outputs": [],
   "source": [
    "T = 1/52           # the set up time is 1 week \n",
    "r = 0.017          # the risk free rate is 1.7%\n",
    "sigma = 1.44       # The  volatility is 144% \n",
    "S0 = 99.52         # The spot price on March 1st 20200 is 99.52$ \n",
    "K = 120            # We chose the strike price as 120$"
   ]
  },
  {
   "cell_type": "code",
   "execution_count": 446,
   "id": "2ba45995",
   "metadata": {},
   "outputs": [],
   "source": [
    "S = mcs_simulation_np(7,1000)      # S stand for the input here, which is 1000 simulations and 7 time steps"
   ]
  },
  {
   "cell_type": "code",
   "execution_count": 447,
   "id": "03fdd643",
   "metadata": {},
   "outputs": [
    {
     "data": {
      "text/plain": [
       "array([[ 99.52      ,  90.54485792,  80.10996314, ...,  77.42556213,\n",
       "         76.258003  ,  81.20221945],\n",
       "       [ 99.52      ,  94.18279563,  93.32260493, ...,  91.23862562,\n",
       "         97.77087024,  98.90920828],\n",
       "       [ 99.52      ,  87.18811474,  97.5199161 , ...,  76.27918462,\n",
       "         73.27814535,  81.51243545],\n",
       "       ...,\n",
       "       [ 99.52      , 104.33343124, 101.33709361, ..., 106.5469414 ,\n",
       "        119.90092317, 114.32081562],\n",
       "       [ 99.52      ,  93.59274167,  83.49707294, ...,  98.66049636,\n",
       "         86.64134178,  90.67742437],\n",
       "       [ 99.52      ,  97.47938612,  95.3459625 , ...,  85.2270951 ,\n",
       "         94.50147496, 100.51516243]])"
      ]
     },
     "execution_count": 447,
     "metadata": {},
     "output_type": "execute_result"
    }
   ],
   "source": [
    "S = np.transpose(S)\n",
    "S"
   ]
  },
  {
   "cell_type": "markdown",
   "id": "7f822edd",
   "metadata": {},
   "source": [
    "### Data output "
   ]
  },
  {
   "cell_type": "code",
   "execution_count": 448,
   "id": "6822e4b5",
   "metadata": {},
   "outputs": [
    {
     "data": {
      "text/plain": [
       "Text(0.5, 1.0, 'Frequency distribution of the simulated end-of-period values')"
      ]
     },
     "execution_count": 448,
     "metadata": {},
     "output_type": "execute_result"
    },
    {
     "data": {
      "image/png": "[encoded data removed]",
      "text/plain": [
       "<Figure size 432x288 with 1 Axes>"
      ]
     },
     "metadata": {
      "needs_background": "light"
     },
     "output_type": "display_data"
    }
   ],
   "source": [
    "import matplotlib.pyplot as plt\n",
    "n, bins, patches = plt.hist(x=S[:,-1], bins='auto', color='#0504aa',alpha=0.7, rwidth=0.85)\n",
    "\n",
    "plt.grid(axis='y', alpha=0.75)\n",
    "plt.xlabel('S_T')                          # We have plot the simulated prices into a graph and it follow a normal distribution\n",
    "plt.ylabel('Frequency')\n",
    "plt.title('Frequency distribution of the simulated end-of-period values')"
   ]
  },
  {
   "cell_type": "markdown",
   "id": "2ac70a33",
   "metadata": {},
   "source": [
    "### European put value"
   ]
  },
  {
   "cell_type": "code",
   "execution_count": 449,
   "id": "b15dbe75",
   "metadata": {},
   "outputs": [
    {
     "name": "stdout",
     "output_type": "stream",
     "text": [
      "European put 21.643289593937194\n"
     ]
    }
   ],
   "source": [
    "p = np.mean(np.maximum(K - S[:,-1],0))\n",
    "print('European put', str(p))                     "
   ]
  },
  {
   "cell_type": "markdown",
   "id": "b3999019",
   "metadata": {},
   "source": [
    "# Black-Scholes Model"
   ]
  },
  {
   "cell_type": "code",
   "execution_count": 352,
   "id": "55b3877b",
   "metadata": {},
   "outputs": [],
   "source": [
    "import numpy as np\n",
    "import pandas as pd\n",
    "import matplotlib.pyplot as plt\n",
    "import scipy.stats as si\n",
    "import yfinance as yf"
   ]
  },
  {
   "cell_type": "markdown",
   "id": "a8752e1c",
   "metadata": {},
   "source": [
    "### BSM for  European option, no dividend "
   ]
  },
  {
   "cell_type": "code",
   "execution_count": 353,
   "id": "8ae16bcf",
   "metadata": {},
   "outputs": [],
   "source": [
    "def euro_option_bs(S, K, T, r, vol, payoff):\n",
    "    \n",
    "    #S: spot price\n",
    "    #K: strike price\n",
    "    #T: time to maturity\n",
    "    #r: risk free rate\n",
    "    #vol: volatility of underlying asset\n",
    "    #payoff: call or put\n",
    "    \n",
    "    d1 = (np.log(S / K) + (r + 0.5 * vol ** 2) * T) / (vol * np.sqrt(T))\n",
    "    d2 = (np.log(S / K) + (r - 0.5 * vol ** 2) * T) / (vol * np.sqrt(T))\n",
    "    if payoff == \"call\":\n",
    "        option_value = S * si.norm.cdf(d1, 0.0, 1.0) - K * np.exp(-r * T) * si.norm.cdf(d2, 0.0, 1.0)\n",
    "    elif payoff == \"put\":\n",
    "        option_value = - S * si.norm.cdf(-d1, 0.0, 1.0) + K * np.exp(-r * T) * si.norm.cdf(-d2, 0.0, 1.0)\n",
    "    \n",
    "    return option_value"
   ]
  },
  {
   "cell_type": "code",
   "execution_count": 354,
   "id": "a9ac07f7",
   "metadata": {},
   "outputs": [
    {
     "data": {
      "text/plain": [
       "22.486905079696697"
      ]
     },
     "execution_count": 354,
     "metadata": {},
     "output_type": "execute_result"
    }
   ],
   "source": [
    "euro_option_bs(99.52, 120, 1/52, 0.017, 1.44, 'put')        "
   ]
  },
  {
   "cell_type": "code",
   "execution_count": 355,
   "id": "dbcf0fd5",
   "metadata": {},
   "outputs": [],
   "source": [
    "S = np.linspace(70,200,11)                   # the range price is between 70$ and 200$ \n",
    "p = np.zeros((len(S),1))\n",
    "for i in range(len(S)):\n",
    "    p[i] = euro_option_bs(S[i], 120, 1/52, 0.017, 1.44, 'put')          "
   ]
  },
  {
   "cell_type": "markdown",
   "id": "ebfc3fb6",
   "metadata": {},
   "source": [
    "### Figure : Put price and payoff"
   ]
  },
  {
   "cell_type": "code",
   "execution_count": 356,
   "id": "783b1da4",
   "metadata": {},
   "outputs": [
    {
     "data": {
      "text/plain": [
       "<matplotlib.legend.Legend at 0x7f81affd91c0>"
      ]
     },
     "execution_count": 356,
     "metadata": {},
     "output_type": "execute_result"
    },
    {
     "data": {
      "image/png": "[encoded data removed]",
      "text/plain": [
       "<Figure size 432x288 with 1 Axes>"
      ]
     },
     "metadata": {
      "needs_background": "light"
     },
     "output_type": "display_data"
    }
   ],
   "source": [
    "fig = plt.figure()\n",
    "plt.plot(S, p, '-')\n",
    "plt.plot(S, np.maximum(120-S,0), '--')\n",
    "plt.xlabel('Stock Price')\n",
    "plt.ylabel('Price')\n",
    "plt.title('European Put')\n",
    "plt.legend(['Option Price','Payoff at T'])"
   ]
  },
  {
   "cell_type": "markdown",
   "id": "865f5d7e",
   "metadata": {},
   "source": [
    "# GREEKS"
   ]
  },
  {
   "cell_type": "markdown",
   "id": "044fe201",
   "metadata": {},
   "source": [
    "# Delta"
   ]
  },
  {
   "cell_type": "code",
   "execution_count": 366,
   "id": "85989e4e",
   "metadata": {},
   "outputs": [],
   "source": [
    "def delta(S, K, T, r, q, vol, payoff):                     # we need to define the function before calculating the delta \n",
    "    # q= 0 our SOL-USD does not have any dividend. \n",
    "    d1 = (np.log(S / K) + (r - q + 0.5 * vol ** 2) * T) / (vol * np.sqrt(T))\n",
    "    if payoff == \"call\":\n",
    "        delta = np.exp(-q * T) * si.norm.cdf(d1, 0.0, 1.0)  # standard normal distribution with a mean = 0 and std = 1\n",
    "    elif payoff == \"put\":\n",
    "        delta =  - np.exp(-q * T) * si.norm.cdf(-d1, 0.0, 1.0)\n",
    "    \n",
    "    return delta"
   ]
  },
  {
   "cell_type": "code",
   "execution_count": 371,
   "id": "c6fbee2f",
   "metadata": {},
   "outputs": [
    {
     "data": {
      "text/plain": [
       "0.2016828898839363"
      ]
     },
     "execution_count": 371,
     "metadata": {},
     "output_type": "execute_result"
    }
   ],
   "source": [
    "delta(99.52, 120, 1/52, 0.017, 0, 1.44, 'call')"
   ]
  },
  {
   "cell_type": "code",
   "execution_count": 370,
   "id": "b3d1c33a",
   "metadata": {},
   "outputs": [
    {
     "data": {
      "text/plain": [
       "-0.7983171101160638"
      ]
     },
     "execution_count": 370,
     "metadata": {},
     "output_type": "execute_result"
    }
   ],
   "source": [
    "delta(99.52, 120, 1/52, 0.017, 0, 1.44, 'put')"
   ]
  },
  {
   "cell_type": "code",
   "execution_count": 375,
   "id": "718d20d8",
   "metadata": {},
   "outputs": [],
   "source": [
    "S = np.linspace(70,200,11)           # We plot the figure after finding the delta.\n",
    "Delta_Call = np.zeros((len(S),1))     \n",
    "Delta_Put = np.zeros((len(S),1))\n",
    "for i in range(len(S)):\n",
    "    Delta_Call [i] = delta(S[i],120, 1/52, 0.017, 0, 1.44, 'call')\n",
    "    Delta_Put [i] = delta(S[i], 120, 1/52, 0.017, 0, 1.44, 'put')\n"
   ]
  },
  {
   "cell_type": "code",
   "execution_count": 376,
   "id": "1f4fe523",
   "metadata": {},
   "outputs": [
    {
     "data": {
      "text/plain": [
       "<matplotlib.legend.Legend at 0x7f81ae68eee0>"
      ]
     },
     "execution_count": 376,
     "metadata": {},
     "output_type": "execute_result"
    },
    {
     "data": {
      "image/png": "[encoded data removed]",
      "text/plain": [
       "<Figure size 432x288 with 1 Axes>"
      ]
     },
     "metadata": {
      "needs_background": "light"
     },
     "output_type": "display_data"
    }
   ],
   "source": [
    "fig = plt.figure()\n",
    "plt.plot(S, Delta_Call, '-')\n",
    "plt.plot(S, Delta_Put, '--')\n",
    "plt.grid()\n",
    "plt.xlabel('Stock Price')\n",
    "plt.ylabel('Delta')\n",
    "plt.title('Delta')\n",
    "plt.legend(['Delta for Call','Delta for Put'])"
   ]
  },
  {
   "cell_type": "markdown",
   "id": "7fdcfdd2",
   "metadata": {},
   "source": [
    "# Gamma"
   ]
  },
  {
   "cell_type": "code",
   "execution_count": 377,
   "id": "024a893e",
   "metadata": {},
   "outputs": [],
   "source": [
    "def gamma(S, K, T, r, q, vol, payoff):                # q= 0 because SOL-USD do not have dividend. \n",
    "    \n",
    "    d1 = (np.log(S / K) + (r - q + 0.5 * vol ** 2) * T) / (vol * np.sqrt(T)) \n",
    "    gamma = np.exp(- q * T) * si.norm.pdf(d1, 0.0, 1.0) / (vol * S * np.sqrt(T))       # we use pdf and not cdf because it is a standard normal distribution\n",
    "    \n",
    "    return gamma"
   ]
  },
  {
   "cell_type": "code",
   "execution_count": 378,
   "id": "dfbbfb62",
   "metadata": {},
   "outputs": [
    {
     "data": {
      "text/plain": [
       "0.014158315420653178"
      ]
     },
     "execution_count": 378,
     "metadata": {},
     "output_type": "execute_result"
    }
   ],
   "source": [
    "gamma(99.52, 120, 1/52, 0.017, 0, 1.44, 'call')"
   ]
  },
  {
   "cell_type": "code",
   "execution_count": 379,
   "id": "db396e21",
   "metadata": {},
   "outputs": [
    {
     "data": {
      "text/plain": [
       "0.014158315420653178"
      ]
     },
     "execution_count": 379,
     "metadata": {},
     "output_type": "execute_result"
    }
   ],
   "source": [
    "gamma(99.52, 120, 1/52, 0.017, 0, 1.44, 'put')      # we have the same value for put and call"
   ]
  },
  {
   "cell_type": "code",
   "execution_count": 380,
   "id": "32359c58",
   "metadata": {},
   "outputs": [],
   "source": [
    "S = np.linspace(70,200,11)                   # we can plot the figure with a range between 70$ and 200$\n",
    "Gamma = np.zeros((len(S),1))\n",
    "for i in range(len(S)):\n",
    "    Gamma [i] = gamma(S[i], 120, 1/52, 0.017, 0, 1.44,'put')\n"
   ]
  },
  {
   "cell_type": "code",
   "execution_count": 381,
   "id": "681fe2ee",
   "metadata": {},
   "outputs": [
    {
     "data": {
      "text/plain": [
       "<matplotlib.legend.Legend at 0x7f81af153880>"
      ]
     },
     "execution_count": 381,
     "metadata": {},
     "output_type": "execute_result"
    },
    {
     "data": {
      "image/png": "[encoded data removed]",
      "text/plain": [
       "<Figure size 432x288 with 1 Axes>"
      ]
     },
     "metadata": {
      "needs_background": "light"
     },
     "output_type": "display_data"
    }
   ],
   "source": [
    "fig = plt.figure()                                     # we can plot the figure for call and Put\n",
    "plt.plot(S, Gamma, '-')\n",
    "plt.grid()\n",
    "plt.xlabel('Stock Price')\n",
    "plt.ylabel('Gamma')\n",
    "plt.title('Gamma')\n",
    "plt.legend(['Gamma for Call and Put'])\n"
   ]
  },
  {
   "cell_type": "markdown",
   "id": "3aa5649c",
   "metadata": {},
   "source": [
    "# Speed"
   ]
  },
  {
   "cell_type": "code",
   "execution_count": 388,
   "id": "5a87b446",
   "metadata": {},
   "outputs": [],
   "source": [
    "def speed(S, K, T, r, q, vol, payoff):                # q = 0  \n",
    "    \n",
    "    d1 = (np.log(S / K) + (r - q + 0.5 * vol ** 2) * T) / (vol * np.sqrt(T))\n",
    "    speed = - np.exp(-q * T) * si.norm.pdf(d1, 0.0, 1.0) / ((vol **2) * (S**2) * np.sqrt(T)) * (d1 + vol * np.sqrt(T))\n",
    "    \n",
    "    return speed"
   ]
  },
  {
   "cell_type": "code",
   "execution_count": 389,
   "id": "5c6ea98d",
   "metadata": {},
   "outputs": [
    {
     "data": {
      "text/plain": [
       "6.282755855816512e-05"
      ]
     },
     "execution_count": 389,
     "metadata": {},
     "output_type": "execute_result"
    }
   ],
   "source": [
    "speed(99.52, 120, 1/52, 0.017, 0, 1.44, 'put')"
   ]
  },
  {
   "cell_type": "code",
   "execution_count": 390,
   "id": "58ba56bc",
   "metadata": {},
   "outputs": [],
   "source": [
    "S = np.linspace(70,200,11)\n",
    "Speed = np.zeros((len(S),1))\n",
    "for i in range(len(S)):\n",
    "    Speed [i] = speed(S[i], 120, 1/52, 0.017, 0, 1.44, 'put')"
   ]
  },
  {
   "cell_type": "code",
   "execution_count": 391,
   "id": "38132562",
   "metadata": {},
   "outputs": [
    {
     "data": {
      "text/plain": [
       "<matplotlib.legend.Legend at 0x7f81af99d970>"
      ]
     },
     "execution_count": 391,
     "metadata": {},
     "output_type": "execute_result"
    },
    {
     "data": {
      "image/png": "[encoded data removed]",
      "text/plain": [
       "<Figure size 432x288 with 1 Axes>"
      ]
     },
     "metadata": {
      "needs_background": "light"
     },
     "output_type": "display_data"
    }
   ],
   "source": [
    "fig = plt.figure()\n",
    "plt.plot(S, Speed, '-')\n",
    "plt.grid()\n",
    "plt.xlabel('Stock Price')\n",
    "plt.ylabel('Speed')\n",
    "plt.title('Speed')\n",
    "plt.legend(['Speed for Put'])"
   ]
  },
  {
   "cell_type": "markdown",
   "id": "17f0ff4f",
   "metadata": {},
   "source": [
    "# Theta "
   ]
  },
  {
   "cell_type": "code",
   "execution_count": 392,
   "id": "8c9dff61",
   "metadata": {},
   "outputs": [],
   "source": [
    "def theta(S, K, T, r, q, vol, payoff):              # q= 0      \n",
    "    \n",
    "    d1 = (np.log(S / K) + (r - q + 0.5 * vol ** 2) * T) / (vol * np.sqrt(T))       \n",
    "    d2 = (np.log(S / K) + (r - q - 0.5 * vol ** 2) * T) / (vol * np.sqrt(T))       # this time we need d2 and d1\n",
    "    if payoff == \"call\":\n",
    "        theta = vol * S * np.exp(-q * T) * si.norm.pdf(d1, 0.0, 1.0) / (2 * np.sqrt(T)) - q * S * np.exp(-q * T) * si.norm.cdf(d1, 0.0, 1.0) + r * K * np.exp(-r * T) * si.norm.cdf(d2, 0.0, 1.0)\n",
    "    elif payoff == \"put\":\n",
    "        theta = vol * S * np.exp(-q * T) * si.norm.pdf(-d1, 0.0, 1.0) / (2 * np.sqrt(T)) - q * S * np.exp(-q * T) * si.norm.cdf(-d1, 0.0, 1.0) + r * K * np.exp(-r * T) * si.norm.cdf(-d2, 0.0, 1.0)\n",
    "    \n",
    "    return theta                                                                  # we want the result to be positive."
   ]
  },
  {
   "cell_type": "code",
   "execution_count": 395,
   "id": "fa1cca67",
   "metadata": {},
   "outputs": [
    {
     "data": {
      "text/plain": [
       "147.12048183043"
      ]
     },
     "execution_count": 395,
     "metadata": {},
     "output_type": "execute_result"
    }
   ],
   "source": [
    "theta(99.52, 120, 1/52, 0.017, 0, 1.44, 'put')"
   ]
  },
  {
   "cell_type": "code",
   "execution_count": 401,
   "id": "4a19ed97",
   "metadata": {},
   "outputs": [],
   "source": [
    "T = np.linspace(1.44,17,12)\n",
    "Theta_Call = np.zeros((len(T),1))\n",
    "Theta_Put = np.zeros((len(T),1))\n",
    "for i in range(len(T)):\n",
    "    Theta_Put [i] = theta(99.52, 120, T[i], 0.017, 0, 1.44, 'put')"
   ]
  },
  {
   "cell_type": "code",
   "execution_count": 402,
   "id": "b8ba617d",
   "metadata": {},
   "outputs": [
    {
     "data": {
      "text/plain": [
       "<matplotlib.legend.Legend at 0x7f81b02b1850>"
      ]
     },
     "execution_count": 402,
     "metadata": {},
     "output_type": "execute_result"
    },
    {
     "data": {
      "image/png": "[encoded data removed]",
      "text/plain": [
       "<Figure size 432x288 with 1 Axes>"
      ]
     },
     "metadata": {
      "needs_background": "light"
     },
     "output_type": "display_data"
    }
   ],
   "source": [
    "fig = plt.figure()\n",
    "plt.plot(T, Theta_Put, '-')\n",
    "plt.grid()\n",
    "plt.xlabel('Time to Expiry')\n",
    "plt.ylabel('Theta')\n",
    "plt.title('Theta')\n",
    "plt.legend([ 'Theta for Put'])"
   ]
  },
  {
   "cell_type": "markdown",
   "id": "3f82afbb",
   "metadata": {},
   "source": [
    "# Rho"
   ]
  },
  {
   "cell_type": "code",
   "execution_count": 399,
   "id": "5a53a83c",
   "metadata": {},
   "outputs": [],
   "source": [
    "def rho(S, K, T, r, q, vol, payoff):      # q= 0, no dividend\n",
    "    \n",
    "    d1 = (np.log(S / K) + (r - q + 0.5 * vol ** 2) * T) / (vol * np.sqrt(T))\n",
    "    d2 = (np.log(S / K) + (r - q - 0.5 * vol ** 2) * T) / (vol * np.sqrt(T))\n",
    "    if payoff == \"call\":\n",
    "        rho =  K * T * np.exp(-r * T) * si.norm.cdf(d2, 0.0, 1.0)\n",
    "    elif payoff == \"put\":\n",
    "        rho = - K * T * np.exp(-r * T) * si.norm.cdf(-d2, 0.0, 1.0)\n",
    "    \n",
    "    return rho"
   ]
  },
  {
   "cell_type": "code",
   "execution_count": 405,
   "id": "ee2abdba",
   "metadata": {},
   "outputs": [
    {
     "data": {
      "text/plain": [
       "-1.960296613047065"
      ]
     },
     "execution_count": 405,
     "metadata": {},
     "output_type": "execute_result"
    }
   ],
   "source": [
    "rho(99.52, 120, 1/52, 0.017, 0, 1.44, 'put')"
   ]
  },
  {
   "cell_type": "code",
   "execution_count": 408,
   "id": "ee3d9fc6",
   "metadata": {},
   "outputs": [],
   "source": [
    "r = np.linspace(0,0.1,11)\n",
    "Rho_Call = np.zeros((len(r),1))\n",
    "Rho_Put = np.zeros((len(r),1))\n",
    "for i in range(len(r)):\n",
    "     Rho_Put [i] = rho(9.52, 120, 1/52, r[i], 0, 1.44, 'put')"
   ]
  },
  {
   "cell_type": "code",
   "execution_count": 409,
   "id": "1ce2e750",
   "metadata": {},
   "outputs": [
    {
     "data": {
      "text/plain": [
       "<matplotlib.legend.Legend at 0x7f81b03c94c0>"
      ]
     },
     "execution_count": 409,
     "metadata": {},
     "output_type": "execute_result"
    },
    {
     "data": {
      "image/png": "[encoded data removed]",
      "text/plain": [
       "<Figure size 432x288 with 1 Axes>"
      ]
     },
     "metadata": {
      "needs_background": "light"
     },
     "output_type": "display_data"
    }
   ],
   "source": [
    "fig = plt.figure()\n",
    "plt.plot(r, Rho_Put, '-')\n",
    "plt.grid()\n",
    "plt.xlabel('Interest Rate')\n",
    "plt.ylabel('Rho')\n",
    "plt.title('Rho')\n",
    "plt.legend(['Rho for Put'])"
   ]
  },
  {
   "cell_type": "markdown",
   "id": "dd389877",
   "metadata": {},
   "source": [
    "# Vega "
   ]
  },
  {
   "cell_type": "code",
   "execution_count": 406,
   "id": "d9e5b8f2",
   "metadata": {},
   "outputs": [],
   "source": [
    "def vega(S, K, T, r, q, vol, payoff):         # q=0 \n",
    "    \n",
    "    d1 = (np.log(S / K) + (r - q + 0.5 * vol ** 2) * T) / (vol * np.sqrt(T))\n",
    "    vega = S * np.sqrt(T) * np.exp(-q * T) * si.norm.pdf(d1, 0.0, 1.0)\n",
    "    \n",
    "    return vega   \n"
   ]
  },
  {
   "cell_type": "code",
   "execution_count": 407,
   "id": "86e81149",
   "metadata": {},
   "outputs": [
    {
     "data": {
      "text/plain": [
       "3.8832152677483016"
      ]
     },
     "execution_count": 407,
     "metadata": {},
     "output_type": "execute_result"
    }
   ],
   "source": [
    "vega(99.52, 120, 1/52, 0.017, 0, 1.44, 'put')"
   ]
  },
  {
   "cell_type": "code",
   "execution_count": 436,
   "id": "d8ee1c27",
   "metadata": {},
   "outputs": [],
   "source": [
    "vol = np.linspace(1,6,13)\n",
    "Vega = np.zeros((len(vol),1))\n",
    "for i in range(len(vol)):\n",
    "    Vega [i] = vega(99.52, 120, 1/52, 0.017, 0, vol[i], 'put')\n",
    "    "
   ]
  },
  {
   "cell_type": "code",
   "execution_count": 437,
   "id": "5f240e12",
   "metadata": {},
   "outputs": [
    {
     "data": {
      "text/plain": [
       "<matplotlib.legend.Legend at 0x7f81b17d3910>"
      ]
     },
     "execution_count": 437,
     "metadata": {},
     "output_type": "execute_result"
    },
    {
     "data": {
      "image/png": "[encoded data removed]",
      "text/plain": [
       "<Figure size 432x288 with 1 Axes>"
      ]
     },
     "metadata": {
      "needs_background": "light"
     },
     "output_type": "display_data"
    }
   ],
   "source": [
    "fig = plt.figure()\n",
    "plt.plot(vol, Vega, '-')\n",
    "plt.grid()\n",
    "plt.xlabel('Volatility')\n",
    "plt.ylabel('Vega')\n",
    "plt.title('Vega')\n",
    "plt.legend(['Vega for Put'])\n"
   ]
  },
  {
   "cell_type": "code",
   "execution_count": null,
   "id": "3ff42fe7",
   "metadata": {},
   "outputs": [],
   "source": []
  },
  {
   "cell_type": "code",
   "execution_count": null,
   "id": "b134eac6",
   "metadata": {},
   "outputs": [],
   "source": []
  }
 ],
 "metadata": {
  "kernelspec": {
   "display_name": "Python 3 (ipykernel)",
   "language": "python",
   "name": "python3"
  },
  "language_info": {
   "codemirror_mode": {
    "name": "ipython",
    "version": 3
   },
   "file_extension": ".py",
   "mimetype": "text/x-python",
   "name": "python",
   "nbconvert_exporter": "python",
   "pygments_lexer": "ipython3",
   "version": "3.9.7"
  }
 },
 "nbformat": 4,
 "nbformat_minor": 5
}
